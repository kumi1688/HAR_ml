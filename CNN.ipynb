{
 "cells": [
  {
   "cell_type": "markdown",
   "id": "872c98ee",
   "metadata": {},
   "source": [
    "# __가속도 데이터를 이용한 사람의 행동 예측하기__"
   ]
  },
  {
   "cell_type": "markdown",
   "id": "3d6eb607",
   "metadata": {},
   "source": [
    "<img src=\"https://miro.medium.com/max/2000/1*vjMyFvefRQbLix7WAyQA1w.png\">\n",
    "source = “Deep Neural Network Example” by Nils Ackermann is licensed under Creative Commons CC BY-ND 4.0"
   ]
  },
  {
   "cell_type": "markdown",
   "id": "5b1d5d70",
   "metadata": {},
   "source": [
    "데이터 출처: http://www.cis.fordham.edu/wisdm/dataset.php\n",
    "\n",
    "The WISDM 는 6개의 라벨을 가지고 있음(Downstairs, Jogging, Sitting, Standing, Upstairs, Walking). "
   ]
  },
  {
   "cell_type": "code",
   "execution_count": 25,
   "id": "6eb05315",
   "metadata": {},
   "outputs": [],
   "source": [
    "import pandas as pd\n",
    "import numpy as np\n",
    "import matplotlib.pyplot as plt\n",
    "from sklearn.model_selection import train_test_split\n",
    "from sklearn.preprocessing import StandardScaler, LabelEncoder"
   ]
  },
  {
   "cell_type": "markdown",
   "id": "8d9266f0",
   "metadata": {},
   "source": [
    "import pandas as pd\n",
    "import numpy as np\n",
    "import matplotlib.pyplot as plt\n",
    "from sklearn.model_selection import train_test_split\n",
    "from sklearn.preprocessing import StandardScaler, LabelEncoder"
   ]
  },
  {
   "cell_type": "markdown",
   "id": "3297e655",
   "metadata": {},
   "source": [
    "## __데이터 전처리__"
   ]
  },
  {
   "cell_type": "code",
   "execution_count": 26,
   "id": "7edd03a5",
   "metadata": {},
   "outputs": [
    {
     "data": {
      "text/plain": [
       "[['33', 'Jogging', '49105962326000', '-0.6946377', '12.680544', '0.50395286'],\n",
       " ['33', 'Jogging', '49106062271000', '5.012288', '11.264028', '0.95342433'],\n",
       " ['33', 'Jogging', '49106112167000', '4.903325', '10.882658', '-0.08172209'],\n",
       " ['33', 'Jogging', '49106222305000', '-0.61291564', '18.496431', '3.0237172'],\n",
       " ['33', 'Jogging', '49106332290000', '-1.1849703', '12.108489', '7.205164']]"
      ]
     },
     "execution_count": 26,
     "metadata": {},
     "output_type": "execute_result"
    }
   ],
   "source": [
    "#파일 불러오기\n",
    "data = []\n",
    "with open('acc_data.txt', 'r') as f:\n",
    "    data = f.readlines()\n",
    "\n",
    "for i in range(len(data)):\n",
    "    data[i] = data[i].split(',')[:-1]\n",
    "    \n",
    "data[:5]"
   ]
  },
  {
   "cell_type": "code",
   "execution_count": 27,
   "id": "982b7f76",
   "metadata": {},
   "outputs": [],
   "source": [
    "columns = ['user', 'activity', 'time', 'x', 'y', 'z']\n",
    "df = pd.DataFrame(data=data, columns=columns)"
   ]
  },
  {
   "cell_type": "code",
   "execution_count": 28,
   "id": "bf8a6d78",
   "metadata": {},
   "outputs": [
    {
     "data": {
      "text/html": [
       "<div>\n",
       "<style scoped>\n",
       "    .dataframe tbody tr th:only-of-type {\n",
       "        vertical-align: middle;\n",
       "    }\n",
       "\n",
       "    .dataframe tbody tr th {\n",
       "        vertical-align: top;\n",
       "    }\n",
       "\n",
       "    .dataframe thead th {\n",
       "        text-align: right;\n",
       "    }\n",
       "</style>\n",
       "<table border=\"1\" class=\"dataframe\">\n",
       "  <thead>\n",
       "    <tr style=\"text-align: right;\">\n",
       "      <th></th>\n",
       "      <th>user</th>\n",
       "      <th>activity</th>\n",
       "      <th>time</th>\n",
       "      <th>x</th>\n",
       "      <th>y</th>\n",
       "      <th>z</th>\n",
       "    </tr>\n",
       "  </thead>\n",
       "  <tbody>\n",
       "    <tr>\n",
       "      <th>0</th>\n",
       "      <td>33</td>\n",
       "      <td>Jogging</td>\n",
       "      <td>49105962326000</td>\n",
       "      <td>-0.6946377</td>\n",
       "      <td>12.680544</td>\n",
       "      <td>0.50395286</td>\n",
       "    </tr>\n",
       "    <tr>\n",
       "      <th>1</th>\n",
       "      <td>33</td>\n",
       "      <td>Jogging</td>\n",
       "      <td>49106062271000</td>\n",
       "      <td>5.012288</td>\n",
       "      <td>11.264028</td>\n",
       "      <td>0.95342433</td>\n",
       "    </tr>\n",
       "    <tr>\n",
       "      <th>2</th>\n",
       "      <td>33</td>\n",
       "      <td>Jogging</td>\n",
       "      <td>49106112167000</td>\n",
       "      <td>4.903325</td>\n",
       "      <td>10.882658</td>\n",
       "      <td>-0.08172209</td>\n",
       "    </tr>\n",
       "    <tr>\n",
       "      <th>3</th>\n",
       "      <td>33</td>\n",
       "      <td>Jogging</td>\n",
       "      <td>49106222305000</td>\n",
       "      <td>-0.61291564</td>\n",
       "      <td>18.496431</td>\n",
       "      <td>3.0237172</td>\n",
       "    </tr>\n",
       "    <tr>\n",
       "      <th>4</th>\n",
       "      <td>33</td>\n",
       "      <td>Jogging</td>\n",
       "      <td>49106332290000</td>\n",
       "      <td>-1.1849703</td>\n",
       "      <td>12.108489</td>\n",
       "      <td>7.205164</td>\n",
       "    </tr>\n",
       "  </tbody>\n",
       "</table>\n",
       "</div>"
      ],
      "text/plain": [
       "  user activity            time            x          y            z\n",
       "0   33  Jogging  49105962326000   -0.6946377  12.680544   0.50395286\n",
       "1   33  Jogging  49106062271000     5.012288  11.264028   0.95342433\n",
       "2   33  Jogging  49106112167000     4.903325  10.882658  -0.08172209\n",
       "3   33  Jogging  49106222305000  -0.61291564  18.496431    3.0237172\n",
       "4   33  Jogging  49106332290000   -1.1849703  12.108489     7.205164"
      ]
     },
     "execution_count": 28,
     "metadata": {},
     "output_type": "execute_result"
    }
   ],
   "source": [
    "df.head()"
   ]
  },
  {
   "cell_type": "code",
   "execution_count": 29,
   "id": "417e90aa",
   "metadata": {},
   "outputs": [
    {
     "data": {
      "text/plain": [
       "(343098, 6)"
      ]
     },
     "execution_count": 29,
     "metadata": {},
     "output_type": "execute_result"
    }
   ],
   "source": [
    "df.shape #데이터의 행은 350개"
   ]
  },
  {
   "cell_type": "code",
   "execution_count": 30,
   "id": "5bae5f9a",
   "metadata": {},
   "outputs": [],
   "source": [
    "df['x'] = df['x'].astype('float64')\n",
    "df['y'] = df['y'].astype('float64')\n",
    "df['z'] = df['z'].astype('float64')"
   ]
  },
  {
   "cell_type": "code",
   "execution_count": 31,
   "id": "1100784f",
   "metadata": {},
   "outputs": [
    {
     "name": "stdout",
     "output_type": "stream",
     "text": [
      "<class 'pandas.core.frame.DataFrame'>\n",
      "RangeIndex: 343098 entries, 0 to 343097\n",
      "Data columns (total 6 columns):\n",
      " #   Column    Non-Null Count   Dtype  \n",
      "---  ------    --------------   -----  \n",
      " 0   user      343098 non-null  object \n",
      " 1   activity  343098 non-null  object \n",
      " 2   time      343097 non-null  object \n",
      " 3   x         343097 non-null  float64\n",
      " 4   y         343097 non-null  float64\n",
      " 5   z         343097 non-null  float64\n",
      "dtypes: float64(3), object(3)\n",
      "memory usage: 15.7+ MB\n"
     ]
    }
   ],
   "source": [
    "df.info()"
   ]
  },
  {
   "cell_type": "code",
   "execution_count": 32,
   "id": "947c297e",
   "metadata": {},
   "outputs": [],
   "source": [
    "df = df.drop(['user', 'time'], axis=1).copy()"
   ]
  },
  {
   "cell_type": "markdown",
   "id": "8945d52a",
   "metadata": {},
   "source": [
    "## __데이터 확인해보기__"
   ]
  },
  {
   "cell_type": "code",
   "execution_count": 33,
   "id": "ead3303e",
   "metadata": {},
   "outputs": [
    {
     "data": {
      "text/html": [
       "<div>\n",
       "<style scoped>\n",
       "    .dataframe tbody tr th:only-of-type {\n",
       "        vertical-align: middle;\n",
       "    }\n",
       "\n",
       "    .dataframe tbody tr th {\n",
       "        vertical-align: top;\n",
       "    }\n",
       "\n",
       "    .dataframe thead th {\n",
       "        text-align: right;\n",
       "    }\n",
       "</style>\n",
       "<table border=\"1\" class=\"dataframe\">\n",
       "  <thead>\n",
       "    <tr style=\"text-align: right;\">\n",
       "      <th></th>\n",
       "      <th>activity</th>\n",
       "      <th>x</th>\n",
       "      <th>y</th>\n",
       "      <th>z</th>\n",
       "    </tr>\n",
       "  </thead>\n",
       "  <tbody>\n",
       "    <tr>\n",
       "      <th>0</th>\n",
       "      <td>Jogging</td>\n",
       "      <td>-0.694638</td>\n",
       "      <td>12.680544</td>\n",
       "      <td>0.503953</td>\n",
       "    </tr>\n",
       "    <tr>\n",
       "      <th>1</th>\n",
       "      <td>Jogging</td>\n",
       "      <td>5.012288</td>\n",
       "      <td>11.264028</td>\n",
       "      <td>0.953424</td>\n",
       "    </tr>\n",
       "    <tr>\n",
       "      <th>2</th>\n",
       "      <td>Jogging</td>\n",
       "      <td>4.903325</td>\n",
       "      <td>10.882658</td>\n",
       "      <td>-0.081722</td>\n",
       "    </tr>\n",
       "    <tr>\n",
       "      <th>3</th>\n",
       "      <td>Jogging</td>\n",
       "      <td>-0.612916</td>\n",
       "      <td>18.496431</td>\n",
       "      <td>3.023717</td>\n",
       "    </tr>\n",
       "    <tr>\n",
       "      <th>4</th>\n",
       "      <td>Jogging</td>\n",
       "      <td>-1.184970</td>\n",
       "      <td>12.108489</td>\n",
       "      <td>7.205164</td>\n",
       "    </tr>\n",
       "  </tbody>\n",
       "</table>\n",
       "</div>"
      ],
      "text/plain": [
       "  activity         x          y         z\n",
       "0  Jogging -0.694638  12.680544  0.503953\n",
       "1  Jogging  5.012288  11.264028  0.953424\n",
       "2  Jogging  4.903325  10.882658 -0.081722\n",
       "3  Jogging -0.612916  18.496431  3.023717\n",
       "4  Jogging -1.184970  12.108489  7.205164"
      ]
     },
     "execution_count": 33,
     "metadata": {},
     "output_type": "execute_result"
    }
   ],
   "source": [
    "df.head()"
   ]
  },
  {
   "cell_type": "code",
   "execution_count": 34,
   "id": "f5135501",
   "metadata": {},
   "outputs": [
    {
     "data": {
      "text/plain": [
       "Walking       137057\n",
       "Jogging       129392\n",
       "Upstairs       35137\n",
       "Downstairs     33358\n",
       "Sitting         4599\n",
       "Standing        3555\n",
       "Name: activity, dtype: int64"
      ]
     },
     "execution_count": 34,
     "metadata": {},
     "output_type": "execute_result"
    }
   ],
   "source": [
    "df['activity'].value_counts()"
   ]
  },
  {
   "cell_type": "code",
   "execution_count": 35,
   "id": "639409e6",
   "metadata": {},
   "outputs": [
    {
     "data": {
      "text/plain": [
       "Index(['Walking', 'Jogging', 'Upstairs', 'Downstairs', 'Sitting', 'Standing'], dtype='object')"
      ]
     },
     "execution_count": 35,
     "metadata": {},
     "output_type": "execute_result"
    }
   ],
   "source": [
    "indexes = df['activity'].value_counts().index\n",
    "indexes"
   ]
  },
  {
   "cell_type": "code",
   "execution_count": 36,
   "id": "8dee568b",
   "metadata": {},
   "outputs": [],
   "source": [
    "min_val = min(df['activity'].value_counts())\n",
    "balanced_data = []\n",
    "for index in indexes:\n",
    "    a = df[df['activity']==index].head(min_val).copy()\n",
    "    balanced_data.append(a)"
   ]
  },
  {
   "cell_type": "code",
   "execution_count": 37,
   "id": "09a09c89",
   "metadata": {},
   "outputs": [
    {
     "data": {
      "text/plain": [
       "6"
      ]
     },
     "execution_count": 37,
     "metadata": {},
     "output_type": "execute_result"
    }
   ],
   "source": [
    "len(balanced_data)"
   ]
  },
  {
   "cell_type": "code",
   "execution_count": 38,
   "id": "e252e9f7",
   "metadata": {},
   "outputs": [],
   "source": [
    "tmp = pd.DataFrame()\n",
    "tmp = tmp.append(balanced_data)\n",
    "tmp['activity'].value_counts()\n",
    "balanced_data = tmp"
   ]
  },
  {
   "cell_type": "markdown",
   "id": "f91b1de9",
   "metadata": {},
   "source": [
    "## __데이터 Label 변환하기__"
   ]
  },
  {
   "cell_type": "code",
   "execution_count": 39,
   "id": "b01bcc2b",
   "metadata": {},
   "outputs": [],
   "source": [
    "from sklearn.preprocessing import LabelEncoder"
   ]
  },
  {
   "cell_type": "code",
   "execution_count": 40,
   "id": "99373510",
   "metadata": {},
   "outputs": [
    {
     "data": {
      "text/html": [
       "<div>\n",
       "<style scoped>\n",
       "    .dataframe tbody tr th:only-of-type {\n",
       "        vertical-align: middle;\n",
       "    }\n",
       "\n",
       "    .dataframe tbody tr th {\n",
       "        vertical-align: top;\n",
       "    }\n",
       "\n",
       "    .dataframe thead th {\n",
       "        text-align: right;\n",
       "    }\n",
       "</style>\n",
       "<table border=\"1\" class=\"dataframe\">\n",
       "  <thead>\n",
       "    <tr style=\"text-align: right;\">\n",
       "      <th></th>\n",
       "      <th>activity</th>\n",
       "      <th>x</th>\n",
       "      <th>y</th>\n",
       "      <th>z</th>\n",
       "      <th>label</th>\n",
       "    </tr>\n",
       "  </thead>\n",
       "  <tbody>\n",
       "    <tr>\n",
       "      <th>597</th>\n",
       "      <td>Walking</td>\n",
       "      <td>0.844462</td>\n",
       "      <td>8.008764</td>\n",
       "      <td>2.792171</td>\n",
       "      <td>5</td>\n",
       "    </tr>\n",
       "    <tr>\n",
       "      <th>598</th>\n",
       "      <td>Walking</td>\n",
       "      <td>1.116869</td>\n",
       "      <td>8.621680</td>\n",
       "      <td>3.786457</td>\n",
       "      <td>5</td>\n",
       "    </tr>\n",
       "    <tr>\n",
       "      <th>599</th>\n",
       "      <td>Walking</td>\n",
       "      <td>-0.503953</td>\n",
       "      <td>16.657684</td>\n",
       "      <td>1.307553</td>\n",
       "      <td>5</td>\n",
       "    </tr>\n",
       "    <tr>\n",
       "      <th>600</th>\n",
       "      <td>Walking</td>\n",
       "      <td>4.794363</td>\n",
       "      <td>10.760075</td>\n",
       "      <td>-1.184970</td>\n",
       "      <td>5</td>\n",
       "    </tr>\n",
       "    <tr>\n",
       "      <th>601</th>\n",
       "      <td>Walking</td>\n",
       "      <td>-0.040861</td>\n",
       "      <td>9.234595</td>\n",
       "      <td>-0.694638</td>\n",
       "      <td>5</td>\n",
       "    </tr>\n",
       "  </tbody>\n",
       "</table>\n",
       "</div>"
      ],
      "text/plain": [
       "    activity         x          y         z  label\n",
       "597  Walking  0.844462   8.008764  2.792171      5\n",
       "598  Walking  1.116869   8.621680  3.786457      5\n",
       "599  Walking -0.503953  16.657684  1.307553      5\n",
       "600  Walking  4.794363  10.760075 -1.184970      5\n",
       "601  Walking -0.040861   9.234595 -0.694638      5"
      ]
     },
     "execution_count": 40,
     "metadata": {},
     "output_type": "execute_result"
    }
   ],
   "source": [
    "label = LabelEncoder()\n",
    "balanced_data['label'] = label.fit_transform(balanced_data['activity'])\n",
    "balanced_data.head()"
   ]
  },
  {
   "cell_type": "code",
   "execution_count": 41,
   "id": "5c9b98c3",
   "metadata": {
    "scrolled": false
   },
   "outputs": [
    {
     "data": {
      "text/plain": [
       "array(['Downstairs', 'Jogging', 'Sitting', 'Standing', 'Upstairs',\n",
       "       'Walking'], dtype=object)"
      ]
     },
     "execution_count": 41,
     "metadata": {},
     "output_type": "execute_result"
    }
   ],
   "source": [
    "label.classes_"
   ]
  },
  {
   "cell_type": "markdown",
   "id": "df36439c",
   "metadata": {},
   "source": [
    "## __Vector Magnitude__"
   ]
  },
  {
   "cell_type": "code",
   "execution_count": 42,
   "id": "323b67ac",
   "metadata": {},
   "outputs": [],
   "source": [
    "def get_vector_magnitude(x,y,z):\n",
    "    return np.sqrt(x**2 + y**2 + z**2)"
   ]
  },
  {
   "cell_type": "code",
   "execution_count": 43,
   "id": "53150f28",
   "metadata": {},
   "outputs": [
    {
     "data": {
      "text/plain": [
       "7.0710678118654755"
      ]
     },
     "execution_count": 43,
     "metadata": {},
     "output_type": "execute_result"
    }
   ],
   "source": [
    "x,y,z = 3,4,5\n",
    "get_vector_magnitude(x,y,z)"
   ]
  },
  {
   "cell_type": "markdown",
   "id": "6c6c9813",
   "metadata": {},
   "source": [
    "## __데이터 표준화(Standarization)__ "
   ]
  },
  {
   "cell_type": "code",
   "execution_count": 44,
   "id": "98810a1f",
   "metadata": {},
   "outputs": [],
   "source": [
    "X = balanced_data[['x', 'y', 'z']]\n",
    "y = balanced_data['label']\n",
    "\n",
    "scaler = StandardScaler()\n",
    "X = scaler.fit_transform(X)"
   ]
  },
  {
   "cell_type": "code",
   "execution_count": 45,
   "id": "5a87a9b7",
   "metadata": {},
   "outputs": [],
   "source": [
    "scaled_X = pd.DataFrame(data=X, columns=['x','y','z'])\n",
    "scaled_X['label'] = y.values"
   ]
  },
  {
   "cell_type": "code",
   "execution_count": 46,
   "id": "a961a1a5",
   "metadata": {
    "scrolled": false
   },
   "outputs": [
    {
     "data": {
      "text/html": [
       "<div>\n",
       "<style scoped>\n",
       "    .dataframe tbody tr th:only-of-type {\n",
       "        vertical-align: middle;\n",
       "    }\n",
       "\n",
       "    .dataframe tbody tr th {\n",
       "        vertical-align: top;\n",
       "    }\n",
       "\n",
       "    .dataframe thead th {\n",
       "        text-align: right;\n",
       "    }\n",
       "</style>\n",
       "<table border=\"1\" class=\"dataframe\">\n",
       "  <thead>\n",
       "    <tr style=\"text-align: right;\">\n",
       "      <th></th>\n",
       "      <th>x</th>\n",
       "      <th>y</th>\n",
       "      <th>z</th>\n",
       "      <th>label</th>\n",
       "    </tr>\n",
       "  </thead>\n",
       "  <tbody>\n",
       "    <tr>\n",
       "      <th>0</th>\n",
       "      <td>0.000503</td>\n",
       "      <td>-0.099190</td>\n",
       "      <td>0.337933</td>\n",
       "      <td>5</td>\n",
       "    </tr>\n",
       "    <tr>\n",
       "      <th>1</th>\n",
       "      <td>0.073590</td>\n",
       "      <td>0.020386</td>\n",
       "      <td>0.633446</td>\n",
       "      <td>5</td>\n",
       "    </tr>\n",
       "    <tr>\n",
       "      <th>2</th>\n",
       "      <td>-0.361275</td>\n",
       "      <td>1.588160</td>\n",
       "      <td>-0.103312</td>\n",
       "      <td>5</td>\n",
       "    </tr>\n",
       "    <tr>\n",
       "      <th>3</th>\n",
       "      <td>1.060258</td>\n",
       "      <td>0.437573</td>\n",
       "      <td>-0.844119</td>\n",
       "      <td>5</td>\n",
       "    </tr>\n",
       "    <tr>\n",
       "      <th>4</th>\n",
       "      <td>-0.237028</td>\n",
       "      <td>0.139962</td>\n",
       "      <td>-0.698386</td>\n",
       "      <td>5</td>\n",
       "    </tr>\n",
       "    <tr>\n",
       "      <th>...</th>\n",
       "      <td>...</td>\n",
       "      <td>...</td>\n",
       "      <td>...</td>\n",
       "      <td>...</td>\n",
       "    </tr>\n",
       "    <tr>\n",
       "      <th>21325</th>\n",
       "      <td>-0.470217</td>\n",
       "      <td>0.178084</td>\n",
       "      <td>0.261019</td>\n",
       "      <td>3</td>\n",
       "    </tr>\n",
       "    <tr>\n",
       "      <th>21326</th>\n",
       "      <td>-0.542658</td>\n",
       "      <td>0.193692</td>\n",
       "      <td>0.248875</td>\n",
       "      <td>3</td>\n",
       "    </tr>\n",
       "    <tr>\n",
       "      <th>21327</th>\n",
       "      <td>-0.628514</td>\n",
       "      <td>0.197593</td>\n",
       "      <td>0.261019</td>\n",
       "      <td>3</td>\n",
       "    </tr>\n",
       "    <tr>\n",
       "      <th>21328</th>\n",
       "      <td>-0.781444</td>\n",
       "      <td>0.049322</td>\n",
       "      <td>0.155768</td>\n",
       "      <td>3</td>\n",
       "    </tr>\n",
       "    <tr>\n",
       "      <th>21329</th>\n",
       "      <td>-0.800225</td>\n",
       "      <td>0.267827</td>\n",
       "      <td>0.475569</td>\n",
       "      <td>3</td>\n",
       "    </tr>\n",
       "  </tbody>\n",
       "</table>\n",
       "<p>21330 rows × 4 columns</p>\n",
       "</div>"
      ],
      "text/plain": [
       "              x         y         z  label\n",
       "0      0.000503 -0.099190  0.337933      5\n",
       "1      0.073590  0.020386  0.633446      5\n",
       "2     -0.361275  1.588160 -0.103312      5\n",
       "3      1.060258  0.437573 -0.844119      5\n",
       "4     -0.237028  0.139962 -0.698386      5\n",
       "...         ...       ...       ...    ...\n",
       "21325 -0.470217  0.178084  0.261019      3\n",
       "21326 -0.542658  0.193692  0.248875      3\n",
       "21327 -0.628514  0.197593  0.261019      3\n",
       "21328 -0.781444  0.049322  0.155768      3\n",
       "21329 -0.800225  0.267827  0.475569      3\n",
       "\n",
       "[21330 rows x 4 columns]"
      ]
     },
     "execution_count": 46,
     "metadata": {},
     "output_type": "execute_result"
    }
   ],
   "source": [
    "scaled_X"
   ]
  },
  {
   "cell_type": "markdown",
   "id": "1b62c213",
   "metadata": {},
   "source": [
    "## __데이터 프레임 준비하기__"
   ]
  },
  {
   "cell_type": "code",
   "execution_count": 59,
   "id": "e3a05c6e",
   "metadata": {},
   "outputs": [],
   "source": [
    "import scipy.stats as stats"
   ]
  },
  {
   "cell_type": "code",
   "execution_count": 79,
   "id": "3eacf174",
   "metadata": {},
   "outputs": [],
   "source": [
    "Fs = 20\n",
    "frame_size = Fs*20\n",
    "step_size = Fs*2"
   ]
  },
  {
   "cell_type": "code",
   "execution_count": 80,
   "id": "214332c7",
   "metadata": {},
   "outputs": [],
   "source": [
    "def get_frames(df, frame_size, step_size):\n",
    "    N_Features = 3 #x,y,z\n",
    "    \n",
    "    frames = []\n",
    "    labels = []\n",
    "    for i in range(0, len(df)-frame_size, hop_size):\n",
    "        x = df['x'].values[i:i+frame_size]\n",
    "        y = df['y'].values[i:i+frame_size]\n",
    "        z = df['z'].values[i:i+frame_size]\n",
    "        \n",
    "        label = stats.mode(df['label'][i:i+frame_size])[0][0]\n",
    "        frames.append([x,y,z])\n",
    "        labels.append(label)\n",
    "    frames = np.asarray(frames).reshape(-1, frame_size, N_Features)\n",
    "    labels = np.asarray(labels)\n",
    "    \n",
    "    return frames, labels\n",
    "    "
   ]
  },
  {
   "cell_type": "code",
   "execution_count": 81,
   "id": "228e4d23",
   "metadata": {},
   "outputs": [],
   "source": [
    "X, y = get_frames(scaled_X, frame_size, step_size)"
   ]
  },
  {
   "cell_type": "code",
   "execution_count": 63,
   "id": "149f0bf1",
   "metadata": {},
   "outputs": [
    {
     "data": {
      "text/plain": [
       "((524, 400, 3), (524,))"
      ]
     },
     "execution_count": 63,
     "metadata": {},
     "output_type": "execute_result"
    }
   ],
   "source": [
    "X.shape, y.shape"
   ]
  },
  {
   "cell_type": "code",
   "execution_count": 64,
   "id": "76437177",
   "metadata": {},
   "outputs": [],
   "source": [
    "X_train, X_test, y_train, y_test = train_test_split(X, y, test_size = 0.2, random_state = 0, stratify = y)"
   ]
  },
  {
   "cell_type": "code",
   "execution_count": 65,
   "id": "a49be193",
   "metadata": {},
   "outputs": [
    {
     "data": {
      "text/plain": [
       "((419, 400, 3), (105, 400, 3))"
      ]
     },
     "execution_count": 65,
     "metadata": {},
     "output_type": "execute_result"
    }
   ],
   "source": [
    "X_train.shape, X_test.shape"
   ]
  },
  {
   "cell_type": "code",
   "execution_count": 66,
   "id": "abfe1c30",
   "metadata": {},
   "outputs": [
    {
     "data": {
      "text/plain": [
       "((400, 3), (400, 3))"
      ]
     },
     "execution_count": 66,
     "metadata": {},
     "output_type": "execute_result"
    }
   ],
   "source": [
    "X_train[0].shape, X_test[0].shape"
   ]
  },
  {
   "cell_type": "code",
   "execution_count": 67,
   "id": "9fefb8a3",
   "metadata": {},
   "outputs": [],
   "source": [
    "X_train = X_train.reshape(-1, frame_size, 3, 1)\n",
    "X_test = X_test.reshape(-1, frame_size, 3, 1)"
   ]
  },
  {
   "cell_type": "code",
   "execution_count": 68,
   "id": "afb51738",
   "metadata": {},
   "outputs": [
    {
     "data": {
      "text/plain": [
       "((400, 3, 1), (400, 3, 1))"
      ]
     },
     "execution_count": 68,
     "metadata": {},
     "output_type": "execute_result"
    }
   ],
   "source": [
    "X_train[0].shape, X_test[0].shape"
   ]
  },
  {
   "cell_type": "markdown",
   "id": "2b8c8a2a",
   "metadata": {},
   "source": [
    "## __2D CNN 모델 적용해보기__"
   ]
  },
  {
   "cell_type": "code",
   "execution_count": 69,
   "id": "1a3ab62b",
   "metadata": {},
   "outputs": [
    {
     "name": "stdout",
     "output_type": "stream",
     "text": [
      "2.3.0\n"
     ]
    }
   ],
   "source": [
    "import tensorflow as tf\n",
    "from tensorflow.keras import Sequential\n",
    "from tensorflow.keras.layers import Flatten, Dense, Dropout, BatchNormalization\n",
    "from tensorflow.keras.layers import Conv2D, MaxPool2D\n",
    "from tensorflow.keras.optimizers import Adam, Adagrad, SGD, RMSprop\n",
    "print(tf.__version__)"
   ]
  },
  {
   "cell_type": "code",
   "execution_count": 70,
   "id": "8c7e7458",
   "metadata": {},
   "outputs": [],
   "source": [
    "model = Sequential()\n",
    "\n",
    "model.add(Conv2D(16, (2, 2), activation = 'relu', input_shape = X_train[0].shape))\n",
    "\n",
    "model.add(Conv2D(32, (2, 2), activation='relu'))\n",
    "model.add(Dropout(0.2))\n",
    "\n",
    "model.add(Flatten())\n",
    "\n",
    "model.add(Dense(32, activation = 'relu'))\n",
    "model.add(Dropout(0.5))\n",
    "\n",
    "model.add(Dense(6, activation='softmax'))\n"
   ]
  },
  {
   "cell_type": "code",
   "execution_count": 71,
   "id": "7d3695ea",
   "metadata": {},
   "outputs": [],
   "source": [
    "model.compile(optimizer=Adam(learning_rate = 0.01), loss = 'sparse_categorical_crossentropy', metrics = ['accuracy'])"
   ]
  },
  {
   "cell_type": "code",
   "execution_count": 72,
   "id": "2a8a5bb3",
   "metadata": {},
   "outputs": [],
   "source": [
    "epochs = 20"
   ]
  },
  {
   "cell_type": "code",
   "execution_count": 73,
   "id": "694ffbe7",
   "metadata": {},
   "outputs": [
    {
     "name": "stdout",
     "output_type": "stream",
     "text": [
      "Epoch 1/20\n",
      "14/14 [==============================] - 0s 23ms/step - loss: 2.0085 - accuracy: 0.2912 - val_loss: 1.2055 - val_accuracy: 0.5429\n",
      "Epoch 2/20\n",
      "14/14 [==============================] - 0s 12ms/step - loss: 1.1092 - accuracy: 0.4916 - val_loss: 0.7298 - val_accuracy: 0.7429\n",
      "Epoch 3/20\n",
      "14/14 [==============================] - 0s 13ms/step - loss: 0.8637 - accuracy: 0.6635 - val_loss: 0.6084 - val_accuracy: 0.7810\n",
      "Epoch 4/20\n",
      "14/14 [==============================] - 0s 12ms/step - loss: 0.7913 - accuracy: 0.6826 - val_loss: 0.4221 - val_accuracy: 0.8381\n",
      "Epoch 5/20\n",
      "14/14 [==============================] - 0s 12ms/step - loss: 0.5357 - accuracy: 0.7661 - val_loss: 0.3021 - val_accuracy: 0.9048\n",
      "Epoch 6/20\n",
      "14/14 [==============================] - 0s 12ms/step - loss: 0.3785 - accuracy: 0.8520 - val_loss: 0.1780 - val_accuracy: 0.9429\n",
      "Epoch 7/20\n",
      "14/14 [==============================] - 0s 12ms/step - loss: 0.3399 - accuracy: 0.8449 - val_loss: 0.1301 - val_accuracy: 0.9619\n",
      "Epoch 8/20\n",
      "14/14 [==============================] - 0s 12ms/step - loss: 0.3198 - accuracy: 0.8759 - val_loss: 0.1163 - val_accuracy: 0.9714\n",
      "Epoch 9/20\n",
      "14/14 [==============================] - 0s 12ms/step - loss: 0.2524 - accuracy: 0.8735 - val_loss: 0.1007 - val_accuracy: 0.9905\n",
      "Epoch 10/20\n",
      "14/14 [==============================] - 0s 12ms/step - loss: 0.1945 - accuracy: 0.9356 - val_loss: 0.0518 - val_accuracy: 1.0000\n",
      "Epoch 11/20\n",
      "14/14 [==============================] - 0s 12ms/step - loss: 0.2220 - accuracy: 0.9117 - val_loss: 0.0629 - val_accuracy: 0.9905\n",
      "Epoch 12/20\n",
      "14/14 [==============================] - 0s 13ms/step - loss: 0.2035 - accuracy: 0.9093 - val_loss: 0.0351 - val_accuracy: 1.0000\n",
      "Epoch 13/20\n",
      "14/14 [==============================] - 0s 12ms/step - loss: 0.1628 - accuracy: 0.9308 - val_loss: 0.0212 - val_accuracy: 1.0000\n",
      "Epoch 14/20\n",
      "14/14 [==============================] - 0s 12ms/step - loss: 0.1480 - accuracy: 0.9547 - val_loss: 0.0197 - val_accuracy: 1.0000\n",
      "Epoch 15/20\n",
      "14/14 [==============================] - 0s 12ms/step - loss: 0.1903 - accuracy: 0.9165 - val_loss: 0.1410 - val_accuracy: 0.9524\n",
      "Epoch 16/20\n",
      "14/14 [==============================] - 0s 12ms/step - loss: 0.1509 - accuracy: 0.9594 - val_loss: 0.0261 - val_accuracy: 0.9905\n",
      "Epoch 17/20\n",
      "14/14 [==============================] - 0s 12ms/step - loss: 0.1364 - accuracy: 0.9523 - val_loss: 0.0548 - val_accuracy: 0.9810\n",
      "Epoch 18/20\n",
      "14/14 [==============================] - 0s 12ms/step - loss: 0.1146 - accuracy: 0.9618 - val_loss: 0.0362 - val_accuracy: 0.9810\n",
      "Epoch 19/20\n",
      "14/14 [==============================] - 0s 13ms/step - loss: 0.1813 - accuracy: 0.9284 - val_loss: 0.0652 - val_accuracy: 0.9810\n",
      "Epoch 20/20\n",
      "14/14 [==============================] - 0s 13ms/step - loss: 0.1468 - accuracy: 0.9379 - val_loss: 0.0499 - val_accuracy: 0.9810\n"
     ]
    }
   ],
   "source": [
    "history = model.fit(X_train, y_train, epochs = epochs, validation_data= (X_test, y_test), verbose=1)"
   ]
  },
  {
   "cell_type": "code",
   "execution_count": 74,
   "id": "2e456517",
   "metadata": {},
   "outputs": [],
   "source": [
    "def plot_learningCurve(history, epochs):\n",
    "  # Plot training & validation accuracy values\n",
    "  epoch_range = range(1, epochs+1)\n",
    "  plt.plot(epoch_range, history.history['accuracy'])\n",
    "  plt.plot(epoch_range, history.history['val_accuracy'])\n",
    "  plt.title('Model accuracy')\n",
    "  plt.ylabel('Accuracy')\n",
    "  plt.xlabel('Epoch')\n",
    "  plt.legend(['Train', 'Val'], loc='upper left')\n",
    "  plt.show()\n",
    "\n",
    "  # Plot training & validation loss values\n",
    "  plt.plot(epoch_range, history.history['loss'])\n",
    "  plt.plot(epoch_range, history.history['val_loss'])\n",
    "  plt.title('Model loss')\n",
    "  plt.ylabel('Loss')\n",
    "  plt.xlabel('Epoch')\n",
    "  plt.legend(['Train', 'Val'], loc='upper left')\n",
    "  plt.show()"
   ]
  },
  {
   "cell_type": "code",
   "execution_count": 75,
   "id": "812573c1",
   "metadata": {},
   "outputs": [
    {
     "data": {
      "image/png": "[encoded data removed]",
      "text/plain": [
       "<Figure size 432x288 with 1 Axes>"
      ]
     },
     "metadata": {
      "needs_background": "light"
     },
     "output_type": "display_data"
    },
    {
     "data": {
      "image/png": "[encoded data removed]",
      "text/plain": [
       "<Figure size 432x288 with 1 Axes>"
      ]
     },
     "metadata": {
      "needs_background": "light"
     },
     "output_type": "display_data"
    }
   ],
   "source": [
    "plot_learningCurve(history, epochs)"
   ]
  },
  {
   "cell_type": "markdown",
   "id": "19e03200",
   "metadata": {},
   "source": [
    "## __오차행렬 확인하기__"
   ]
  },
  {
   "cell_type": "code",
   "execution_count": 76,
   "id": "693bd943",
   "metadata": {},
   "outputs": [],
   "source": [
    "from mlxtend.plotting import plot_confusion_matrix\n",
    "from sklearn.metrics import confusion_matrix"
   ]
  },
  {
   "cell_type": "code",
   "execution_count": 77,
   "id": "85730313",
   "metadata": {},
   "outputs": [
    {
     "name": "stdout",
     "output_type": "stream",
     "text": [
      "WARNING:tensorflow:From <ipython-input-77-fdaaf2360398>:1: Sequential.predict_classes (from tensorflow.python.keras.engine.sequential) is deprecated and will be removed after 2021-01-01.\n",
      "Instructions for updating:\n",
      "Please use instead:* `np.argmax(model.predict(x), axis=-1)`,   if your model does multi-class classification   (e.g. if it uses a `softmax` last-layer activation).* `(model.predict(x) > 0.5).astype(\"int32\")`,   if your model does binary classification   (e.g. if it uses a `sigmoid` last-layer activation).\n"
     ]
    }
   ],
   "source": [
    "y_pred = model.predict_classes(X_test)"
   ]
  },
  {
   "cell_type": "code",
   "execution_count": 78,
   "id": "2eaf255c",
   "metadata": {},
   "outputs": [
    {
     "data": {
      "text/plain": [
       "(<Figure size 504x504 with 1 Axes>,\n",
       " <AxesSubplot:xlabel='predicted label', ylabel='true label'>)"
      ]
     },
     "execution_count": 78,
     "metadata": {},
     "output_type": "execute_result"
    },
    {
     "data": {
      "image/png": "[encoded data removed]",
      "text/plain": [
       "<Figure size 504x504 with 1 Axes>"
      ]
     },
     "metadata": {
      "needs_background": "light"
     },
     "output_type": "display_data"
    }
   ],
   "source": [
    "mat = confusion_matrix(y_test, y_pred)\n",
    "plot_confusion_matrix(conf_mat=mat, class_names=label.classes_, show_normed=True, figsize=(7,7))"
   ]
  },
  {
   "cell_type": "code",
   "execution_count": null,
   "id": "86bbc00d",
   "metadata": {},
   "outputs": [],
   "source": []
  },
  {
   "cell_type": "code",
   "execution_count": null,
   "id": "28080f4f",
   "metadata": {},
   "outputs": [],
   "source": []
  }
 ],
 "metadata": {
  "kernelspec": {
   "display_name": "Python 3",
   "language": "python",
   "name": "python3"
  },
  "language_info": {
   "codemirror_mode": {
    "name": "ipython",
    "version": 3
   },
   "file_extension": ".py",
   "mimetype": "text/x-python",
   "name": "python",
   "nbconvert_exporter": "python",
   "pygments_lexer": "ipython3",
   "version": "3.8.10"
  }
 },
 "nbformat": 4,
 "nbformat_minor": 5
}
